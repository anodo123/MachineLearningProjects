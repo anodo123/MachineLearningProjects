{
 "cells": [
  {
   "cell_type": "markdown",
   "metadata": {},
   "source": [
    "# Predict House Prices in Ames, Iowa 🏡\n",
    "**Problem Statement**:  \n",
    "The Ames Housing dataset is a comprehensive dataset that provides detailed information on nearly 3,000 properties in Ames, Iowa. Your goal is to build a **linear regression model** to predict house prices based on a rich set of features.\n",
    "\n",
    "---\n",
    "\n",
    "## Key Challenges\n",
    "1. **High Dimensionality** 📊:  \n",
    "   The dataset contains over **80 features**, including both numeric and categorical data. Managing such a large feature set requires careful feature selection and preprocessing.\n",
    "\n",
    "2. **Feature Engineering** 🔧:  \n",
    "   Some features, such as the year built or square footage, might be more meaningful when combined or transformed. For example:\n",
    "   - **House Age**: Calculate the age of the house from the year built.\n",
    "   - **Total Living Area**: Combine main floor and basement square footage for more accurate predictions.\n",
    "\n",
    "3. **Missing Values** ❓:  \n",
    "   Several features have missing data, which must be handled through strategies like **imputation** or **dropping** irrelevant columns.\n",
    "\n",
    "4. **Outliers** 🚨:  \n",
    "   Outliers, such as very expensive or large homes, can distort linear regression results. Identifying and treating these outliers is key for improving model performance.\n",
    "\n",
    "5. **Multicollinearity** 🔄:  \n",
    "   Some features may be highly correlated with each other, leading to **multicollinearity**. This can reduce the effectiveness of our model, so we will need to analyze and address this issue carefully.\n",
    "\n",
    "---\n",
    "\n",
    "## Approach\n",
    "\n",
    "We will follow these key steps to solve the problem:\n",
    "\n",
    "1. **Data Exploration and Cleaning** 🧹:  \n",
    "   Examine and clean the dataset by dealing with missing values, outliers, and inconsistent data.\n",
    "\n",
    "2. **Feature Engineering** ✨:  \n",
    "   Create new features that better represent the underlying property value drivers, such as house age or total square footage.\n",
    "\n",
    "3. **Handling Categorical Features** 🏷️:  \n",
    "   Convert categorical variables into numerical representations through one-hot encoding to make them usable for linear regression.\n",
    "\n",
    "4. **Multicollinearity Check** 🧐:  \n",
    "   Assess and reduce multicollinearity between features using techniques like variance inflation factor (VIF) analysis.\n",
    "\n",
    "5. **Model Training and Evaluation** 📈:  \n",
    "   Train a **linear regression model** and evaluate its performance using metrics like **Mean Squared Error (MSE)** and **R²**.\n",
    "\n",
    "6. **Regularization** 🚀:  \n",
    "   If necessary, apply **Ridge** or **Lasso** regression to prevent overfitting and handle multicollinearity.\n",
    "\n",
    "---\n",
    "\n",
    "Let's dive in and build an accurate, interpretable model that can effectively predict house prices in Ames, Iowa! 🌟\n"
   ]
  },
  {
   "cell_type": "code",
   "execution_count": 18,
   "metadata": {},
   "outputs": [
    {
     "name": "stdout",
     "output_type": "stream",
     "text": [
      "<class 'pandas.core.frame.DataFrame'>\n",
      "RangeIndex: 21613 entries, 0 to 21612\n",
      "Data columns (total 21 columns):\n",
      " #   Column         Non-Null Count  Dtype  \n",
      "---  ------         --------------  -----  \n",
      " 0   id             21613 non-null  int64  \n",
      " 1   date           21613 non-null  object \n",
      " 2   price          21613 non-null  float64\n",
      " 3   bedrooms       21613 non-null  int64  \n",
      " 4   bathrooms      21613 non-null  float64\n",
      " 5   sqft_living    21613 non-null  int64  \n",
      " 6   sqft_lot       21613 non-null  int64  \n",
      " 7   floors         21613 non-null  float64\n",
      " 8   waterfront     21613 non-null  int64  \n",
      " 9   view           21613 non-null  int64  \n",
      " 10  condition      21613 non-null  int64  \n",
      " 11  grade          21613 non-null  int64  \n",
      " 12  sqft_above     21613 non-null  int64  \n",
      " 13  sqft_basement  21613 non-null  int64  \n",
      " 14  yr_built       21613 non-null  int64  \n",
      " 15  yr_renovated   21613 non-null  int64  \n",
      " 16  zipcode        21613 non-null  int64  \n",
      " 17  lat            21613 non-null  float64\n",
      " 18  long           21613 non-null  float64\n",
      " 19  sqft_living15  21613 non-null  int64  \n",
      " 20  sqft_lot15     21613 non-null  int64  \n",
      "dtypes: float64(5), int64(15), object(1)\n",
      "memory usage: 3.5+ MB\n",
      "None\n",
      "                 id         price      bedrooms     bathrooms   sqft_living  \\\n",
      "count  2.161300e+04  2.161300e+04  21613.000000  21613.000000  21613.000000   \n",
      "mean   4.580302e+09  5.400881e+05      3.370842      2.114757   2079.899736   \n",
      "std    2.876566e+09  3.671272e+05      0.930062      0.770163    918.440897   \n",
      "min    1.000102e+06  7.500000e+04      0.000000      0.000000    290.000000   \n",
      "25%    2.123049e+09  3.219500e+05      3.000000      1.750000   1427.000000   \n",
      "50%    3.904930e+09  4.500000e+05      3.000000      2.250000   1910.000000   \n",
      "75%    7.308900e+09  6.450000e+05      4.000000      2.500000   2550.000000   \n",
      "max    9.900000e+09  7.700000e+06     33.000000      8.000000  13540.000000   \n",
      "\n",
      "           sqft_lot        floors    waterfront          view     condition  \\\n",
      "count  2.161300e+04  21613.000000  21613.000000  21613.000000  21613.000000   \n",
      "mean   1.510697e+04      1.494309      0.007542      0.234303      3.409430   \n",
      "std    4.142051e+04      0.539989      0.086517      0.766318      0.650743   \n",
      "min    5.200000e+02      1.000000      0.000000      0.000000      1.000000   \n",
      "25%    5.040000e+03      1.000000      0.000000      0.000000      3.000000   \n",
      "50%    7.618000e+03      1.500000      0.000000      0.000000      3.000000   \n",
      "75%    1.068800e+04      2.000000      0.000000      0.000000      4.000000   \n",
      "max    1.651359e+06      3.500000      1.000000      4.000000      5.000000   \n",
      "\n",
      "              grade    sqft_above  sqft_basement      yr_built  yr_renovated  \\\n",
      "count  21613.000000  21613.000000   21613.000000  21613.000000  21613.000000   \n",
      "mean       7.656873   1788.390691     291.509045   1971.005136     84.402258   \n",
      "std        1.175459    828.090978     442.575043     29.373411    401.679240   \n",
      "min        1.000000    290.000000       0.000000   1900.000000      0.000000   \n",
      "25%        7.000000   1190.000000       0.000000   1951.000000      0.000000   \n",
      "50%        7.000000   1560.000000       0.000000   1975.000000      0.000000   \n",
      "75%        8.000000   2210.000000     560.000000   1997.000000      0.000000   \n",
      "max       13.000000   9410.000000    4820.000000   2015.000000   2015.000000   \n",
      "\n",
      "            zipcode           lat          long  sqft_living15     sqft_lot15  \n",
      "count  21613.000000  21613.000000  21613.000000   21613.000000   21613.000000  \n",
      "mean   98077.939805     47.560053   -122.213896    1986.552492   12768.455652  \n",
      "std       53.505026      0.138564      0.140828     685.391304   27304.179631  \n",
      "min    98001.000000     47.155900   -122.519000     399.000000     651.000000  \n",
      "25%    98033.000000     47.471000   -122.328000    1490.000000    5100.000000  \n",
      "50%    98065.000000     47.571800   -122.230000    1840.000000    7620.000000  \n",
      "75%    98118.000000     47.678000   -122.125000    2360.000000   10083.000000  \n",
      "max    98199.000000     47.777600   -121.315000    6210.000000  871200.000000  \n"
     ]
    }
   ],
   "source": [
    "import pandas as pd\n",
    "import pandas as pd\n",
    "from sklearn.preprocessing import StandardScaler\n",
    "from sklearn.cluster import KMeans\n",
    "from sklearn.model_selection import train_test_split\n",
    "from sklearn.linear_model import LinearRegression\n",
    "from sklearn.metrics import mean_squared_error, r2_score\n",
    "# Load the dataset\n",
    "url = \"https://raw.githubusercontent.com/ryanleeallred/datasets/master/kc_house_data.csv\"\n",
    "df = pd.read_csv(url)\n",
    "\n",
    "# Display basic info about the data\n",
    "print(df.info())\n",
    "print(df.describe())\n"
   ]
  },
  {
   "cell_type": "code",
   "execution_count": 19,
   "metadata": {},
   "outputs": [],
   "source": [
    "# Drop the 'date' column\n",
    "df = df.drop(columns=['date'])"
   ]
  },
  {
   "cell_type": "code",
   "execution_count": 20,
   "metadata": {},
   "outputs": [
    {
     "data": {
      "text/plain": [
       "id               0\n",
       "price            0\n",
       "bedrooms         0\n",
       "bathrooms        0\n",
       "sqft_living      0\n",
       "sqft_lot         0\n",
       "floors           0\n",
       "waterfront       0\n",
       "view             0\n",
       "condition        0\n",
       "grade            0\n",
       "sqft_above       0\n",
       "sqft_basement    0\n",
       "yr_built         0\n",
       "yr_renovated     0\n",
       "zipcode          0\n",
       "lat              0\n",
       "long             0\n",
       "sqft_living15    0\n",
       "sqft_lot15       0\n",
       "dtype: int64"
      ]
     },
     "execution_count": 20,
     "metadata": {},
     "output_type": "execute_result"
    }
   ],
   "source": [
    "# Check for missing values\n",
    "df.isnull().sum()"
   ]
  },
  {
   "cell_type": "markdown",
   "metadata": {},
   "source": [
    "### Understanding the Correlation Check\n",
    "\n",
    "The piece of code is used to identify which features are most strongly correlated with the target variable (house prices). This analysis helps us understand the following:\n",
    "\n",
    "1. **Which features are the best predictors of house prices**:\n",
    "   - Features with a strong **positive correlation** (close to +1) with the target variable tend to be good predictors. For example, features like total square footage or number of bathrooms may have high positive correlations with price, indicating that larger homes or homes with more amenities tend to sell for higher prices.\n",
    "\n",
    "2. **Which features have a negative impact on the price**:\n",
    "   - Features with a **negative correlation** (closer to -1) indicate that as the feature value increases, the house price tends to decrease. For instance, if a feature like the distance from the city center is negatively correlated with price, it suggests that houses further from the city are generally cheaper.\n",
    "\n",
    "3. **Which features are less relevant to predicting house prices**:\n",
    "   - Features with a correlation close to **zero** have little to no linear relationship with the house price. These features may not provide much useful information for predicting house prices and could be considered for removal or further analysis.\n",
    "\n",
    "---\n",
    "\n",
    "By sorting the correlations in descending order, we can easily identify which features are the most influential in predicting house prices and which may have a weaker or even opposite effect.\n"
   ]
  },
  {
   "cell_type": "code",
   "execution_count": 22,
   "metadata": {},
   "outputs": [
    {
     "name": "stdout",
     "output_type": "stream",
     "text": [
      "{'price': 1.0, 'sqft_living': 0.7020350546118005, 'grade': 0.6674342560202353, 'sqft_above': 0.6055672983560784, 'sqft_living15': 0.5853789035795692, 'bathrooms': 0.5251375054139628, 'view': 0.39729348829450273, 'sqft_basement': 0.3238160207119844, 'bedrooms': 0.30834959814563934, 'lat': 0.3070034799952544, 'waterfront': 0.26636943403060204, 'floors': 0.25679388755071897, 'yr_renovated': 0.1264337934408933, 'sqft_lot': 0.0896608605871003, 'sqft_lot15': 0.08244715251948544, 'yr_built': 0.05401153149479249, 'condition': 0.03636178912899721, 'long': 0.021626241039337152, 'id': -0.016762196614444884, 'zipcode': -0.05320285429829216}\n"
     ]
    }
   ],
   "source": [
    "\n",
    "# Check correlation with the target variable\n",
    "corr = df.corr()\n",
    "print(dict(corr['price'].sort_values(ascending=False)))\n",
    "relevant_columns =  [x  for x,y in dict(corr['price'].sort_values(ascending=False)).items() if (y>0.20)]"
   ]
  },
  {
   "cell_type": "code",
   "execution_count": 23,
   "metadata": {},
   "outputs": [
    {
     "name": "stdout",
     "output_type": "stream",
     "text": [
      "There are 70 unique zipcodes in the dataset.\n"
     ]
    }
   ],
   "source": [
    "# Count the number of unique zipcodes in the dataset\n",
    "df = df.dropna()\n",
    "num_zipcodes = df['zipcode'].nunique()\n",
    "print(f\"There are {num_zipcodes} unique zipcodes in the dataset.\")"
   ]
  },
  {
   "cell_type": "code",
   "execution_count": 24,
   "metadata": {},
   "outputs": [],
   "source": [
    "# Extract features for clustering\n",
    "features = df[['zipcode', 'sqft_living', 'grade', 'sqft_above', 'sqft_living15', 'bathrooms', 'view', 'sqft_basement', 'bedrooms', 'lat', 'waterfront', 'floors']]\n",
    "\n",
    "# Normalize/Standardize features for clustering\n",
    "scaler = StandardScaler()\n",
    "scaled_features = scaler.fit_transform(features)\n"
   ]
  },
  {
   "cell_type": "code",
   "execution_count": 32,
   "metadata": {},
   "outputs": [
    {
     "data": {
      "image/png": "[encoded data removed]",
      "text/plain": [
       "<Figure size 800x600 with 1 Axes>"
      ]
     },
     "metadata": {},
     "output_type": "display_data"
    }
   ],
   "source": [
    "from sklearn.metrics import silhouette_score\n",
    "import matplotlib.pyplot as plt\n",
    "# Compute silhouette scores for a range of cluster numbers\n",
    "silhouette_scores = []\n",
    "k_range = range(2, 71)\n",
    "for k in k_range:\n",
    "    kmeans = KMeans(n_clusters=k, random_state=42)\n",
    "    clusters = kmeans.fit_predict(scaled_features)\n",
    "    score = silhouette_score(scaled_features, clusters)\n",
    "    silhouette_scores.append(score)\n",
    "\n",
    "# Plot silhouette scores\n",
    "plt.figure(figsize=(8, 6))\n",
    "plt.plot(k_range, silhouette_scores, marker='o')\n",
    "plt.xlabel('Number of Clusters')\n",
    "plt.ylabel('Silhouette Score')\n",
    "plt.title('Silhouette Score for Optimal Number of Clusters')\n",
    "plt.show()\n"
   ]
  },
  {
   "cell_type": "markdown",
   "metadata": {},
   "source": [
    "#6 looks very optimal cluster size, we will go with 6"
   ]
  },
  {
   "cell_type": "code",
   "execution_count": 33,
   "metadata": {},
   "outputs": [],
   "source": [
    "# Apply K-Means clustering\n",
    "kmeans = KMeans(n_clusters=6, random_state=42)  # Adjust the number of clusters as needed\n",
    "df['zipcode_cluster'] = kmeans.fit_predict(scaled_features)"
   ]
  },
  {
   "cell_type": "code",
   "execution_count": 35,
   "metadata": {},
   "outputs": [
    {
     "name": "stdout",
     "output_type": "stream",
     "text": [
      "Processing cluster 2\n",
      "Cluster 2: Mean Squared Error = 11940844326.488586, R^2 Score = 0.45406854729983015\n",
      "Processing cluster 0\n",
      "Cluster 0: Mean Squared Error = 17430850752.921528, R^2 Score = 0.5070048210954217\n",
      "Processing cluster 3\n",
      "Cluster 3: Mean Squared Error = 24825966486.55864, R^2 Score = 0.4807536440205662\n",
      "Processing cluster 4\n",
      "Cluster 4: Mean Squared Error = 125211205388.35078, R^2 Score = 0.4298382267059081\n",
      "Processing cluster 1\n",
      "Cluster 1: Mean Squared Error = 100297337361.95828, R^2 Score = 0.5496801890112647\n",
      "Processing cluster 5\n",
      "Cluster 5: Mean Squared Error = 97940196293.27147, R^2 Score = 0.848799472224415\n"
     ]
    }
   ],
   "source": [
    "# Initialize dictionaries to store results\n",
    "results = {}\n",
    "\n",
    "# Loop through each cluster\n",
    "for cluster in df['zipcode_cluster'].unique():\n",
    "    print(f\"Processing cluster {cluster}\")\n",
    "\n",
    "    # Filter data for the current cluster\n",
    "    cluster_data = df[df['zipcode_cluster'] == cluster]\n",
    "    \n",
    "    # Select features and target variable\n",
    "    X = cluster_data[['sqft_living', 'grade', 'sqft_above', 'sqft_living15', 'bathrooms', 'view', 'sqft_basement', 'bedrooms', 'lat', 'waterfront', 'floors']]\n",
    "    y = cluster_data['price']\n",
    "    \n",
    "    # Convert categorical features to dummy variables if needed\n",
    "    X = pd.get_dummies(X, drop_first=True)\n",
    "    \n",
    "    # Split data into training and test sets\n",
    "    X_train, X_test, y_train, y_test = train_test_split(X, y, test_size=0.2, random_state=42)\n",
    "    \n",
    "    # Train Linear Regression model\n",
    "    model = LinearRegression()\n",
    "    model.fit(X_train, y_train)\n",
    "    \n",
    "    # Make predictions\n",
    "    y_pred = model.predict(X_test)\n",
    "    \n",
    "    # Evaluate the model\n",
    "    mse = mean_squared_error(y_test, y_pred)\n",
    "    r2 = r2_score(y_test, y_pred)\n",
    "    \n",
    "    # Store results\n",
    "    results[cluster] = {'MSE': mse, 'R^2': r2}\n",
    "    \n",
    "    print(f\"Cluster {cluster}: Mean Squared Error = {mse}, R^2 Score = {r2}\")\n"
   ]
  },
  {
   "cell_type": "markdown",
   "metadata": {},
   "source": [
    "# Train without clustering"
   ]
  },
  {
   "cell_type": "code",
   "execution_count": 1,
   "metadata": {},
   "outputs": [
    {
     "name": "stdout",
     "output_type": "stream",
     "text": [
      "Mean Squared Error: 51184595501.80478\n",
      "R^2 Score: 0.6614253958980159\n"
     ]
    }
   ],
   "source": [
    "from sklearn.linear_model import LinearRegression\n",
    "from sklearn.model_selection import train_test_split\n",
    "from sklearn.metrics import mean_squared_error, r2_score\n",
    "from sklearn.preprocessing import StandardScaler\n",
    "import pandas as pd\n",
    "\n",
    "# Load the dataset\n",
    "url = \"https://raw.githubusercontent.com/ryanleeallred/datasets/master/kc_house_data.csv\"\n",
    "df = pd.read_csv(url)\n",
    "\n",
    "# Select features and target\n",
    "features = df[['sqft_living', 'grade', 'sqft_above', 'sqft_living15', 'bathrooms', 'view', 'sqft_basement', 'bedrooms', 'lat', 'waterfront', 'floors']]\n",
    "target = df['price']\n",
    "\n",
    "# Standardize the features\n",
    "scaler = StandardScaler()\n",
    "scaled_features = scaler.fit_transform(features)\n",
    "\n",
    "# Split the data into training and test sets\n",
    "X_train, X_test, y_train, y_test = train_test_split(scaled_features, target, test_size=0.2, random_state=42)\n",
    "\n",
    "# Train the linear regression model\n",
    "model = LinearRegression()\n",
    "model.fit(X_train, y_train)\n",
    "\n",
    "# Make predictions\n",
    "y_pred = model.predict(X_test)\n",
    "\n",
    "# Evaluate the model\n",
    "mse = mean_squared_error(y_test, y_pred)\n",
    "r2 = r2_score(y_test, y_pred)\n",
    "\n",
    "print(f\"Mean Squared Error: {mse}\")\n",
    "print(f\"R^2 Score: {r2}\")\n"
   ]
  },
  {
   "cell_type": "markdown",
   "metadata": {},
   "source": [
    "# Train without clustering and with less features"
   ]
  },
  {
   "cell_type": "code",
   "execution_count": 5,
   "metadata": {},
   "outputs": [
    {
     "name": "stdout",
     "output_type": "stream",
     "text": [
      "Mean Squared Error: 54325909113.034454\n",
      "R^2 Score: 0.6406463118424477\n"
     ]
    }
   ],
   "source": [
    "from sklearn.linear_model import LinearRegression\n",
    "from sklearn.model_selection import train_test_split\n",
    "from sklearn.metrics import mean_squared_error, r2_score\n",
    "from sklearn.preprocessing import StandardScaler\n",
    "import pandas as pd\n",
    "\n",
    "# Load the dataset\n",
    "url = \"https://raw.githubusercontent.com/ryanleeallred/datasets/master/kc_house_data.csv\"\n",
    "df = pd.read_csv(url)\n",
    "\n",
    "# Select features and target\n",
    "features = df[['sqft_living', 'grade', 'sqft_above', 'bathrooms', 'view', 'sqft_basement', 'bedrooms', 'lat', 'floors']]\n",
    "target = df['price']\n",
    "\n",
    "# Standardize the features\n",
    "scaler = StandardScaler()\n",
    "scaled_features = scaler.fit_transform(features)\n",
    "\n",
    "# Split the data into training and test sets\n",
    "X_train, X_test, y_train, y_test = train_test_split(scaled_features, target, test_size=0.2, random_state=42)\n",
    "\n",
    "# Train the linear regression model\n",
    "model = LinearRegression()\n",
    "model.fit(X_train, y_train)\n",
    "\n",
    "# Make predictions\n",
    "y_pred = model.predict(X_test)\n",
    "\n",
    "# Evaluate the model\n",
    "mse = mean_squared_error(y_test, y_pred)\n",
    "r2 = r2_score(y_test, y_pred)\n",
    "\n",
    "print(f\"Mean Squared Error: {mse}\")\n",
    "print(f\"R^2 Score: {r2}\")\n"
   ]
  },
  {
   "cell_type": "markdown",
   "metadata": {},
   "source": [
    "## Performance Comparison: With and Without Clustering\n",
    "\n",
    "### Model Performance with Clustering\n",
    "\n",
    "The performance of the linear regression model on different clusters is summarized below:\n",
    "\n",
    "- **Cluster 5**:\n",
    "  - **Mean Squared Error (MSE)**: 97,940,196,293.27\n",
    "  - **R^2 Score**: 0.849\n",
    "  - **Best Performance**: Cluster 5 shows the lowest MSE and highest R^2 score, indicating the best predictive performance among the clusters.\n",
    "\n",
    "- **Cluster 1**:\n",
    "  - **Mean Squared Error (MSE)**: 100,297,337,361.96\n",
    "  - **R^2 Score**: 0.550\n",
    "  - **Moderate Performance**: Cluster 1 has decent performance but is not as strong as Cluster 5.\n",
    "\n",
    "- **Cluster 0**:\n",
    "  - **Mean Squared Error (MSE)**: 17,430,850,752.92\n",
    "  - **R^2 Score**: 0.507\n",
    "  - **Moderate Performance**: Cluster 0 has a higher MSE and lower R^2 score compared to Clusters 1 and 5.\n",
    "\n",
    "- **Cluster 2**:\n",
    "  - **Mean Squared Error (MSE)**: 11,940,844,326.49\n",
    "  - **R^2 Score**: 0.454\n",
    "  - **Lower Performance**: Cluster 2 exhibits the lowest R^2 score and moderate MSE.\n",
    "\n",
    "- **Cluster 3**:\n",
    "  - **Mean Squared Error (MSE)**: 24,825,966,486.56\n",
    "  - **R^2 Score**: 0.481\n",
    "  - **Lower Performance**: Cluster 3 has relatively poor performance compared to others.\n",
    "\n",
    "- **Cluster 4**:\n",
    "  - **Mean Squared Error (MSE)**: 125,211,205,388.35\n",
    "  - **R^2 Score**: 0.430\n",
    "  - **Worst Performance**: Cluster 4 shows the highest MSE and lowest R^2 score, indicating the worst performance.\n",
    "\n",
    "### Model Performance Without Clustering\n",
    "\n",
    "The performance of the linear regression model trained on the entire dataset is as follows:\n",
    "\n",
    "- **Mean Squared Error (MSE)**: 54,325,909,113.03\n",
    "- **R^2 Score**: 0.641\n",
    "\n",
    "### Comparison and Insights\n",
    "\n",
    "1. **Model Performance**:\n",
    "   - **Without Clustering**: Provides a baseline performance with an MSE of 54,325,909,113.03 and an R^2 score of 0.641.\n",
    "   - **With Clustering**: The best performing cluster (Cluster 5) has an MSE of 97,940,196,293.27 and an R^2 score of 0.849. Despite a higher MSE, the R^2 score indicates better performance in explaining variance within that cluster.\n",
    "\n",
    "2. **Cluster Performance**:\n",
    "   - Clustering improves performance for some clusters, particularly Cluster 5, which shows significant improvements in R^2 score compared to the overall model.\n",
    "   - However, clustering introduces variability, with some clusters performing worse than the overall model.\n",
    "\n",
    "3. **Implications**:\n",
    "   - **Clustering**: Can be beneficial for improving model performance in specific segments but may also introduce variability in accuracy.\n",
    "   - **Overall Model**: The global model provides a solid baseline, with moderate R^2 score and MSE.\n",
    "\n",
    "### Summary\n",
    "\n",
    "Clustering can enhance model performance for certain data segments, as shown by the strong performance of Cluster 5. However, it also introduces variability, with some clusters performing worse than the overall model. Depending on the application, clustering might be a useful strategy for improving predictive accuracy for specific subsets of data, but a well-tuned global model remains competitive.\n"
   ]
  }
 ],
 "metadata": {
  "kernelspec": {
   "display_name": "Python 3",
   "language": "python",
   "name": "python3"
  },
  "language_info": {
   "codemirror_mode": {
    "name": "ipython",
    "version": 3
   },
   "file_extension": ".py",
   "mimetype": "text/x-python",
   "name": "python",
   "nbconvert_exporter": "python",
   "pygments_lexer": "ipython3",
   "version": "3.12.0"
  }
 },
 "nbformat": 4,
 "nbformat_minor": 2
}
